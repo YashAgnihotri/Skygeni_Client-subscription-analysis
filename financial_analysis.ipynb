{
  "nbformat": 4,
  "nbformat_minor": 0,
  "metadata": {
    "colab": {
      "provenance": []
    },
    "kernelspec": {
      "name": "python3",
      "display_name": "Python 3"
    },
    "language_info": {
      "name": "python"
    }
  },
  "cells": [
    {
      "cell_type": "code",
      "execution_count": 30,
      "metadata": {
        "id": "lFryRZSEjDOK",
        "colab": {
          "base_uri": "https://localhost:8080/"
        },
        "outputId": "4da26d37-4dee-43e2-b2b6-439f4d7fa8ac"
      },
      "outputs": [
        {
          "output_type": "stream",
          "name": "stdout",
          "text": [
            "Drive already mounted at /content/drive; to attempt to forcibly remount, call drive.mount(\"/content/drive\", force_remount=True).\n"
          ]
        }
      ],
      "source": [
        "# Import the pandas library for data manipulation and analysis\n",
        "import pandas as pd\n",
        "\n",
        "# Import the datetime module to work with date and time objects\n",
        "from datetime import datetime\n",
        "\n",
        "# Mount Google Drive to access files stored in your Google Drive account\n",
        "from google.colab import drive\n",
        "drive.mount('/content/drive')  # This will prompt you to authorize access and mount the drive at the specified path\n"
      ]
    },
    {
      "cell_type": "code",
      "source": [
        "# Load the financial information dataset from Google Drive\n",
        "financial_info = pd.read_csv(\"/content/drive/MyDrive/Skygeni_Dataset/finanical_information.csv\")\n",
        "\n",
        "# Load the client payment details dataset from Google Drive\n",
        "payment_info = pd.read_csv(\"/content/drive/MyDrive/Skygeni_Dataset/payment_information.csv\")\n",
        "\n",
        "# Load the subscription information dataset from Google Drive\n",
        "subscription_info = pd.read_csv(\"/content/drive/MyDrive/Skygeni_Dataset/subscription_information.csv\")\n",
        "\n",
        "# Load the industry and client details dataset from Google Drive\n",
        "industry_info = pd.read_csv(\"/content/drive/MyDrive/Skygeni_Dataset/industry_client_details.csv\")\n"
      ],
      "metadata": {
        "id": "YeGVQZzYlNN4"
      },
      "execution_count": 31,
      "outputs": []
    },
    {
      "cell_type": "code",
      "source": [
        "# Filter clients who belong to the 'Finance Lending' or 'Block Chain' industries,\n",
        "# then count the number of unique client IDs\n",
        "finance_blockchain_clients = industry_info[industry_info['industry'].isin(['Finance Lending', 'Block Chain'])]['client_id'].nunique()\n",
        "\n",
        "# Print the total number of unique clients in the specified industries\n",
        "print(f\"Number of Finance Lending and Blockchain clients: {finance_blockchain_clients}\")\n"
      ],
      "metadata": {
        "colab": {
          "base_uri": "https://localhost:8080/"
        },
        "id": "nE63wkPFlROY",
        "outputId": "e080e9fc-5a0e-477f-f2a6-42223a263be6"
      },
      "execution_count": 32,
      "outputs": [
        {
          "output_type": "stream",
          "name": "stdout",
          "text": [
            "Number of Finance Lending and Blockchain clients: 47\n"
          ]
        }
      ]
    },
    {
      "cell_type": "code",
      "source": [
        "# Merge subscription and industry data on 'client_id' to link each subscription with its corresponding industry\n",
        "merged_data = pd.merge(subscription_info, industry_info, on='client_id', how='left')\n",
        "\n",
        "# Group the merged data by industry and calculate the average renewal rate for each industry\n",
        "# (Assumes 'renewed' column is 1 for renewed and 0 for not renewed)\n",
        "renewal_rates = merged_data.groupby('industry')['renewed'].mean().sort_values(ascending=False)\n",
        "\n",
        "# Identify the industry with the highest renewal rate\n",
        "highest_renewal_industry = renewal_rates.idxmax()\n",
        "\n",
        "# Get the corresponding renewal rate value\n",
        "highest_renewal_rate = renewal_rates.max()\n",
        "\n",
        "# Print the result in a nicely formatted message\n",
        "print(f\"Industry with highest renewal rate: {highest_renewal_industry} with rate {highest_renewal_rate:.2%}\")"
      ],
      "metadata": {
        "colab": {
          "base_uri": "https://localhost:8080/"
        },
        "id": "-J-4a-NCkhfq",
        "outputId": "e8dc3ecd-65e4-418b-d2e9-f680ecbe0df4"
      },
      "execution_count": 33,
      "outputs": [
        {
          "output_type": "stream",
          "name": "stdout",
          "text": [
            "Industry with highest renewal rate: Gaming with rate 72.73%\n"
          ]
        }
      ]
    },
    {
      "cell_type": "code",
      "source": [
        "# Convert 'start_date' in subscription_info to datetime format\n",
        "subscription_info['start_date'] = pd.to_datetime(subscription_info['start_date'])\n",
        "\n",
        "# Convert 'start_date' and 'end_date' in financial_info to datetime format\n",
        "financial_info['start_date'] = pd.to_datetime(financial_info['start_date'])\n",
        "financial_info['end_date'] = pd.to_datetime(financial_info['end_date'])\n",
        "\n",
        "# Filter the subscriptions that were renewed\n",
        "renewed_subs = subscription_info[subscription_info['renewed'] == True]\n",
        "\n",
        "# Perform an asof merge to align each renewed subscription's start_date\n",
        "# with the closest (nearest earlier or later) financial data point\n",
        "merged_fin_sub = pd.merge_asof(\n",
        "    renewed_subs.sort_values('start_date'),\n",
        "    financial_info.sort_values('start_date'),\n",
        "    left_on='start_date',\n",
        "    right_on='start_date',\n",
        "    direction='nearest'\n",
        ")\n",
        "\n",
        "# Calculate the average inflation rate for the periods during which subscriptions were renewed\n",
        "avg_inflation_renewed = merged_fin_sub['inflation_rate'].mean()\n",
        "\n",
        "# Print the result with two decimal places\n",
        "print(f\"Average inflation rate during renewed subscriptions: {avg_inflation_renewed:.2f}%\")\n"
      ],
      "metadata": {
        "colab": {
          "base_uri": "https://localhost:8080/"
        },
        "id": "syrIW5G1kj4j",
        "outputId": "233e4ede-8498-4dc3-9051-73d9672e1012"
      },
      "execution_count": 34,
      "outputs": [
        {
          "output_type": "stream",
          "name": "stdout",
          "text": [
            "Average inflation rate during renewed subscriptions: 4.86%\n"
          ]
        }
      ]
    },
    {
      "cell_type": "code",
      "source": [
        "# Convert 'payment_date' column to datetime format using the specified format (e.g., '3/15/2022')\n",
        "payment_info['payment_date'] = pd.to_datetime(payment_info['payment_date'], format='%m/%d/%Y')\n",
        "\n",
        "# Extract the year from the payment date and store it in a new column\n",
        "payment_info['year'] = payment_info['payment_date'].dt.year\n",
        "\n",
        "# Group the data by year and calculate the median amount paid for each year\n",
        "median_amount_by_year = payment_info.groupby('year')['amount_paid'].median()\n",
        "\n",
        "# Print the median payment amounts for each year\n",
        "print(\"Median amount paid each year:\")\n",
        "for year, median in median_amount_by_year.items():\n",
        "    print(f\"Year {year}: ${median:.2f}\")\n"
      ],
      "metadata": {
        "colab": {
          "base_uri": "https://localhost:8080/"
        },
        "id": "O2l6iNHWkl33",
        "outputId": "0326fd55-7d67-40f1-c98a-d6e141142a84"
      },
      "execution_count": 35,
      "outputs": [
        {
          "output_type": "stream",
          "name": "stdout",
          "text": [
            "Median amount paid each year:\n",
            "Year 2018: $235.70\n",
            "Year 2019: $360.90\n",
            "Year 2020: $284.50\n",
            "Year 2021: $306.80\n",
            "Year 2022: $288.00\n"
          ]
        }
      ]
    }
  ]
}